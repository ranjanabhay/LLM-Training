{
 "cells": [
  {
   "cell_type": "code",
   "execution_count": 1,
   "id": "f074a147-e80a-4477-8607-e395d98ade1d",
   "metadata": {},
   "outputs": [],
   "source": [
    "import pandas as pd\n",
    "from datasets import load_dataset\n",
    "import torch\n",
    "from datasets import load_dataset\n",
    "from transformers import GPT2LMHeadModel, GPT2Tokenizer, Trainer, TrainingArguments"
   ]
  },
  {
   "cell_type": "code",
   "execution_count": 2,
   "id": "f3546ef4-abbd-441b-a941-11f4540557f0",
   "metadata": {},
   "outputs": [],
   "source": [
    "dataset = load_dataset(\"wikitext\",\"wikitext-103-raw-v1\")"
   ]
  },
  {
   "cell_type": "code",
   "execution_count": 3,
   "id": "97df1ee4-775a-4f5d-8984-eaf90ceca33a",
   "metadata": {},
   "outputs": [
    {
     "data": {
      "text/plain": [
       "{'test': (4358, 1), 'train': (1801350, 1), 'validation': (3760, 1)}"
      ]
     },
     "execution_count": 3,
     "metadata": {},
     "output_type": "execute_result"
    }
   ],
   "source": [
    "dataset.shape"
   ]
  },
  {
   "cell_type": "code",
   "execution_count": 4,
   "id": "75f5c485-5627-433d-abfe-df8cc44d1f55",
   "metadata": {},
   "outputs": [],
   "source": [
    "# Step 2: Limit the train dataset to 2% of the original dataset\n",
    "train_size = 0.0001  # 0.1% of the training dataset\n",
    "train_dataset = dataset['train'].train_test_split(test_size=1-train_size)['train']\n",
    "# Use the full eval dataset\n",
    "eval_dataset = dataset['validation']"
   ]
  },
  {
   "cell_type": "code",
   "execution_count": 5,
   "id": "c4814af6-274d-4de0-9aa4-7fc4c6d8a640",
   "metadata": {},
   "outputs": [],
   "source": [
    "# Step 3: Load GPT-2 Tokenizer\n",
    "tokenizer = GPT2Tokenizer.from_pretrained('gpt2')"
   ]
  },
  {
   "cell_type": "code",
   "execution_count": 6,
   "id": "d62b68cf-443b-4e99-9860-d09fe072c574",
   "metadata": {},
   "outputs": [],
   "source": [
    "# Step 4: Tokenize the dataset\n",
    "def tokenize_function(examples):\n",
    "    # Tokenize input text\n",
    "    encodings = tokenizer(examples['text'], padding=\"max_length\", truncation=True, max_length=512)\n",
    "    \n",
    "    # GPT-2 expects labels to be the same as input_ids (for causal language modeling)\n",
    "    encodings['labels'] = encodings['input_ids'].copy()  # Set labels as input_ids for language modeling\n",
    "    \n",
    "    return encodings"
   ]
  },
  {
   "cell_type": "code",
   "execution_count": 7,
   "id": "a264a1da-1d8c-41f9-90d4-2b36eb2717c1",
   "metadata": {},
   "outputs": [
    {
     "data": {
      "application/vnd.jupyter.widget-view+json": {
       "model_id": "d064f027a8244db6a67d7a96b2bca723",
       "version_major": 2,
       "version_minor": 0
      },
      "text/plain": [
       "Map:   0%|          | 0/180 [00:00<?, ? examples/s]"
      ]
     },
     "metadata": {},
     "output_type": "display_data"
    }
   ],
   "source": [
    "# Apply tokenization to the training dataset\n",
    "tokenizer.pad_token = tokenizer.eos_token\n",
    "train_dataset = train_dataset.map(tokenize_function, batched=True)"
   ]
  },
  {
   "cell_type": "code",
   "execution_count": 8,
   "id": "5dfa4d2c-aa2a-42d3-9b6c-fc27e7873342",
   "metadata": {},
   "outputs": [],
   "source": [
    "# Apply tokenization to the evaluation dataset\n",
    "eval_dataset = eval_dataset.map(tokenize_function, batched=True)"
   ]
  },
  {
   "cell_type": "code",
   "execution_count": 9,
   "id": "86f2746e-7cde-4e95-acde-5a92b60b12f8",
   "metadata": {},
   "outputs": [],
   "source": [
    "# Step 5: Load GPT-2 Model\n",
    "model = GPT2LMHeadModel.from_pretrained('gpt2')"
   ]
  },
  {
   "cell_type": "code",
   "execution_count": 10,
   "id": "9c612077-94b5-41f4-9031-22c005770da5",
   "metadata": {},
   "outputs": [
    {
     "name": "stderr",
     "output_type": "stream",
     "text": [
      "C:\\Users\\ranja\\AppData\\Roaming\\Python\\Python312\\site-packages\\transformers\\training_args.py:1575: FutureWarning: `evaluation_strategy` is deprecated and will be removed in version 4.46 of 🤗 Transformers. Use `eval_strategy` instead\n",
      "  warnings.warn(\n"
     ]
    }
   ],
   "source": [
    "# Step 6: Define Training Arguments\n",
    "training_args = TrainingArguments(\n",
    "    output_dir=\"./results\",            # Output directory\n",
    "    num_train_epochs=3,                # Number of epochs\n",
    "    per_device_train_batch_size=4,     # Batch size for training\n",
    "    per_device_eval_batch_size=8,      # Batch size for evaluation\n",
    "    warmup_steps=500,                  # Number of warmup steps\n",
    "    weight_decay=0.01,                 # Strength of weight decay\n",
    "    logging_dir=\"./logs\",              # Directory for storing logs\n",
    "    logging_steps=10,                  # Log every 10 steps\n",
    "    save_steps=500,                    # Save checkpoint every 500 steps\n",
    "    evaluation_strategy=\"steps\",       # Evaluation strategy (by steps)\n",
    "    eval_steps=500,                    # Evaluate every 500 steps\n",
    "    save_total_limit=2,                # Limit the number of saved checkpoints\n",
    "    load_best_model_at_end=True        # Load the best model when training ends\n",
    ")"
   ]
  },
  {
   "cell_type": "code",
   "execution_count": 11,
   "id": "6bca55f9-4f2d-47e4-a95c-907a8ca137c6",
   "metadata": {},
   "outputs": [],
   "source": [
    "# Step 7: Initialize the Trainer\n",
    "trainer = Trainer(\n",
    "    model=model,                        # The model to train\n",
    "    args=training_args,                 # Training arguments\n",
    "    train_dataset=train_dataset,        # Training dataset (2% of the original)\n",
    "    eval_dataset=eval_dataset           # Full evaluation dataset\n",
    ")"
   ]
  },
  {
   "cell_type": "code",
   "execution_count": 12,
   "id": "8c01cf35-e2fd-453b-97b1-376348643882",
   "metadata": {},
   "outputs": [
    {
     "data": {
      "text/html": [
       "\n",
       "    <div>\n",
       "      \n",
       "      <progress value='135' max='135' style='width:300px; height:20px; vertical-align: middle;'></progress>\n",
       "      [135/135 1:27:06, Epoch 3/3]\n",
       "    </div>\n",
       "    <table border=\"1\" class=\"dataframe\">\n",
       "  <thead>\n",
       " <tr style=\"text-align: left;\">\n",
       "      <th>Step</th>\n",
       "      <th>Training Loss</th>\n",
       "      <th>Validation Loss</th>\n",
       "    </tr>\n",
       "  </thead>\n",
       "  <tbody>\n",
       "  </tbody>\n",
       "</table><p>"
      ],
      "text/plain": [
       "<IPython.core.display.HTML object>"
      ]
     },
     "metadata": {},
     "output_type": "display_data"
    },
    {
     "data": {
      "text/plain": [
       "TrainOutput(global_step=135, training_loss=2.729516788765236, metrics={'train_runtime': 5237.4095, 'train_samples_per_second': 0.103, 'train_steps_per_second': 0.026, 'total_flos': 141097697280000.0, 'train_loss': 2.729516788765236, 'epoch': 3.0})"
      ]
     },
     "execution_count": 12,
     "metadata": {},
     "output_type": "execute_result"
    }
   ],
   "source": [
    "# Step 8: Start Training\n",
    "trainer.train()"
   ]
  },
  {
   "cell_type": "code",
   "execution_count": 13,
   "id": "b5a40a46-338f-400d-b746-fd579cbd2d26",
   "metadata": {},
   "outputs": [
    {
     "data": {
      "text/plain": [
       "('./my_gpt2_model\\\\tokenizer_config.json',\n",
       " './my_gpt2_model\\\\special_tokens_map.json',\n",
       " './my_gpt2_model\\\\vocab.json',\n",
       " './my_gpt2_model\\\\merges.txt',\n",
       " './my_gpt2_model\\\\added_tokens.json')"
      ]
     },
     "execution_count": 13,
     "metadata": {},
     "output_type": "execute_result"
    }
   ],
   "source": [
    "model.save_pretrained('./my_gpt2_model')\n",
    "tokenizer.save_pretrained('./my_gpt2_model')"
   ]
  },
  {
   "cell_type": "code",
   "execution_count": 15,
   "id": "841db821-2e97-4b2c-bb2f-a90b614f5757",
   "metadata": {},
   "outputs": [],
   "source": [
    "#Load a pre-trained model\n",
    "from transformers import GPT2LMHeadModel,GPT2Tokenizer\n",
    "#Load the saved model and the tokenizer\n",
    "saved_model = GPT2LMHeadModel.from_pretrained('./my_gpt2_model')\n",
    "saved_tokenizer = GPT2Tokenizer.from_pretrained('./my_gpt2_model')"
   ]
  },
  {
   "cell_type": "code",
   "execution_count": 27,
   "id": "676ca864-4692-4ba5-aa81-6b764b546621",
   "metadata": {},
   "outputs": [
    {
     "name": "stderr",
     "output_type": "stream",
     "text": [
      "Setting `pad_token_id` to `eos_token_id`:50256 for open-end generation.\n"
     ]
    },
    {
     "name": "stdout",
     "output_type": "stream",
     "text": [
      "Regarding India:What is the capital of India? Answer:India is a state of the Indian subcontinent. It is located in the south-east of South Asia and is situated in India's north-west. The state is divided into three parts: the state capital, the city of Delhi, and the central government headquarters. In the north, Delhi is home to the largest number of Indian citizens, with over 1.5 million people.\n"
     ]
    }
   ],
   "source": [
    "#Set the model to evaluation mode\n",
    "saved_model.eval()\n",
    "#Define the question\n",
    "question = \"Regarding India:What is the capital of India? Answer:\"\n",
    "#Encode the question\n",
    "inputs = saved_tokenizer.encode(question,return_tensors='pt')\n",
    "#Ensure that the pad_toekn_id is set,in case padding is needed\n",
    "saved_model.config.pad_token_id = saved_model.config.eos_token_id\n",
    "#Generate a response\n",
    "outputs = saved_model.generate(inputs,max_length=100,num_return_sequences=1,no_repeat_ngram_size=2,attention_mask=inputs.ne(1).long())\n",
    "#Deocde and print the generated output\n",
    "response = saved_tokenizer.decode(outputs[0],skip_special_tokens=True)\n",
    "print(response)"
   ]
  },
  {
   "cell_type": "code",
   "execution_count": null,
   "id": "081d4e88-9c7c-4749-b714-3a6fff3eced4",
   "metadata": {},
   "outputs": [],
   "source": []
  }
 ],
 "metadata": {
  "kernelspec": {
   "display_name": "Python 3 (ipykernel)",
   "language": "python",
   "name": "python3"
  },
  "language_info": {
   "codemirror_mode": {
    "name": "ipython",
    "version": 3
   },
   "file_extension": ".py",
   "mimetype": "text/x-python",
   "name": "python",
   "nbconvert_exporter": "python",
   "pygments_lexer": "ipython3",
   "version": "3.12.7"
  }
 },
 "nbformat": 4,
 "nbformat_minor": 5
}
